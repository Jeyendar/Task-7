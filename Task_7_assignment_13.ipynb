{
  "nbformat": 4,
  "nbformat_minor": 0,
  "metadata": {
    "colab": {
      "name": "Task 7_assignment_13.ipynb",
      "provenance": [],
      "collapsed_sections": [],
      "authorship_tag": "ABX9TyN2Ta3yB7OGFjDKcEqDlsnh",
      "include_colab_link": true
    },
    "kernelspec": {
      "name": "python3",
      "display_name": "Python 3"
    },
    "language_info": {
      "name": "python"
    }
  },
  "cells": [
    {
      "cell_type": "markdown",
      "metadata": {
        "id": "view-in-github",
        "colab_type": "text"
      },
      "source": [
        "<a href=\"https://colab.research.google.com/github/Jeyendar/Task-7/blob/main/Task_7_assignment_13.ipynb\" target=\"_parent\"><img src=\"https://colab.research.google.com/assets/colab-badge.svg\" alt=\"Open In Colab\"/></a>"
      ]
    },
    {
      "cell_type": "code",
      "metadata": {
        "id": "JolSMtbOfmc9"
      },
      "source": [
        "#Social_Networks_Ads.csv"
      ],
      "execution_count": null,
      "outputs": []
    },
    {
      "cell_type": "markdown",
      "metadata": {
        "id": "h_3tQC1Kf0ut"
      },
      "source": [
        "i)**Importing the libraries**"
      ]
    },
    {
      "cell_type": "code",
      "metadata": {
        "id": "EObl2Z6IfyG4"
      },
      "source": [
        "import pandas as pd\n",
        "import numpy as np\n",
        "import matplotlib.pyplot as plt\n",
        "import seaborn as sns"
      ],
      "execution_count": 1,
      "outputs": []
    },
    {
      "cell_type": "markdown",
      "metadata": {
        "id": "yxzr0NOWf73l"
      },
      "source": [
        "ii)**Importing the dataset**"
      ]
    },
    {
      "cell_type": "code",
      "metadata": {
        "id": "nN9xC2r6fyMZ",
        "outputId": "6df07071-d719-485c-c39a-1ede450a9a2b",
        "colab": {
          "base_uri": "https://localhost:8080/",
          "height": 424
        }
      },
      "source": [
        "data = pd.read_csv('/content/Social_Network_Ads.csv')\n",
        "data"
      ],
      "execution_count": 5,
      "outputs": [
        {
          "output_type": "execute_result",
          "data": {
            "text/plain": [
              "      User ID  Gender  Age  EstimatedSalary  Purchased\n",
              "0    15624510    Male   19            19000          0\n",
              "1    15810944    Male   35            20000          0\n",
              "2    15668575  Female   26            43000          0\n",
              "3    15603246  Female   27            57000          0\n",
              "4    15804002    Male   19            76000          0\n",
              "..        ...     ...  ...              ...        ...\n",
              "395  15691863  Female   46            41000          1\n",
              "396  15706071    Male   51            23000          1\n",
              "397  15654296  Female   50            20000          1\n",
              "398  15755018    Male   36            33000          0\n",
              "399  15594041  Female   49            36000          1\n",
              "\n",
              "[400 rows x 5 columns]"
            ],
            "text/html": [
              "\n",
              "  <div id=\"df-8592d9fe-750f-4bd2-88eb-779d57c7e400\">\n",
              "    <div class=\"colab-df-container\">\n",
              "      <div>\n",
              "<style scoped>\n",
              "    .dataframe tbody tr th:only-of-type {\n",
              "        vertical-align: middle;\n",
              "    }\n",
              "\n",
              "    .dataframe tbody tr th {\n",
              "        vertical-align: top;\n",
              "    }\n",
              "\n",
              "    .dataframe thead th {\n",
              "        text-align: right;\n",
              "    }\n",
              "</style>\n",
              "<table border=\"1\" class=\"dataframe\">\n",
              "  <thead>\n",
              "    <tr style=\"text-align: right;\">\n",
              "      <th></th>\n",
              "      <th>User ID</th>\n",
              "      <th>Gender</th>\n",
              "      <th>Age</th>\n",
              "      <th>EstimatedSalary</th>\n",
              "      <th>Purchased</th>\n",
              "    </tr>\n",
              "  </thead>\n",
              "  <tbody>\n",
              "    <tr>\n",
              "      <th>0</th>\n",
              "      <td>15624510</td>\n",
              "      <td>Male</td>\n",
              "      <td>19</td>\n",
              "      <td>19000</td>\n",
              "      <td>0</td>\n",
              "    </tr>\n",
              "    <tr>\n",
              "      <th>1</th>\n",
              "      <td>15810944</td>\n",
              "      <td>Male</td>\n",
              "      <td>35</td>\n",
              "      <td>20000</td>\n",
              "      <td>0</td>\n",
              "    </tr>\n",
              "    <tr>\n",
              "      <th>2</th>\n",
              "      <td>15668575</td>\n",
              "      <td>Female</td>\n",
              "      <td>26</td>\n",
              "      <td>43000</td>\n",
              "      <td>0</td>\n",
              "    </tr>\n",
              "    <tr>\n",
              "      <th>3</th>\n",
              "      <td>15603246</td>\n",
              "      <td>Female</td>\n",
              "      <td>27</td>\n",
              "      <td>57000</td>\n",
              "      <td>0</td>\n",
              "    </tr>\n",
              "    <tr>\n",
              "      <th>4</th>\n",
              "      <td>15804002</td>\n",
              "      <td>Male</td>\n",
              "      <td>19</td>\n",
              "      <td>76000</td>\n",
              "      <td>0</td>\n",
              "    </tr>\n",
              "    <tr>\n",
              "      <th>...</th>\n",
              "      <td>...</td>\n",
              "      <td>...</td>\n",
              "      <td>...</td>\n",
              "      <td>...</td>\n",
              "      <td>...</td>\n",
              "    </tr>\n",
              "    <tr>\n",
              "      <th>395</th>\n",
              "      <td>15691863</td>\n",
              "      <td>Female</td>\n",
              "      <td>46</td>\n",
              "      <td>41000</td>\n",
              "      <td>1</td>\n",
              "    </tr>\n",
              "    <tr>\n",
              "      <th>396</th>\n",
              "      <td>15706071</td>\n",
              "      <td>Male</td>\n",
              "      <td>51</td>\n",
              "      <td>23000</td>\n",
              "      <td>1</td>\n",
              "    </tr>\n",
              "    <tr>\n",
              "      <th>397</th>\n",
              "      <td>15654296</td>\n",
              "      <td>Female</td>\n",
              "      <td>50</td>\n",
              "      <td>20000</td>\n",
              "      <td>1</td>\n",
              "    </tr>\n",
              "    <tr>\n",
              "      <th>398</th>\n",
              "      <td>15755018</td>\n",
              "      <td>Male</td>\n",
              "      <td>36</td>\n",
              "      <td>33000</td>\n",
              "      <td>0</td>\n",
              "    </tr>\n",
              "    <tr>\n",
              "      <th>399</th>\n",
              "      <td>15594041</td>\n",
              "      <td>Female</td>\n",
              "      <td>49</td>\n",
              "      <td>36000</td>\n",
              "      <td>1</td>\n",
              "    </tr>\n",
              "  </tbody>\n",
              "</table>\n",
              "<p>400 rows × 5 columns</p>\n",
              "</div>\n",
              "      <button class=\"colab-df-convert\" onclick=\"convertToInteractive('df-8592d9fe-750f-4bd2-88eb-779d57c7e400')\"\n",
              "              title=\"Convert this dataframe to an interactive table.\"\n",
              "              style=\"display:none;\">\n",
              "        \n",
              "  <svg xmlns=\"http://www.w3.org/2000/svg\" height=\"24px\"viewBox=\"0 0 24 24\"\n",
              "       width=\"24px\">\n",
              "    <path d=\"M0 0h24v24H0V0z\" fill=\"none\"/>\n",
              "    <path d=\"M18.56 5.44l.94 2.06.94-2.06 2.06-.94-2.06-.94-.94-2.06-.94 2.06-2.06.94zm-11 1L8.5 8.5l.94-2.06 2.06-.94-2.06-.94L8.5 2.5l-.94 2.06-2.06.94zm10 10l.94 2.06.94-2.06 2.06-.94-2.06-.94-.94-2.06-.94 2.06-2.06.94z\"/><path d=\"M17.41 7.96l-1.37-1.37c-.4-.4-.92-.59-1.43-.59-.52 0-1.04.2-1.43.59L10.3 9.45l-7.72 7.72c-.78.78-.78 2.05 0 2.83L4 21.41c.39.39.9.59 1.41.59.51 0 1.02-.2 1.41-.59l7.78-7.78 2.81-2.81c.8-.78.8-2.07 0-2.86zM5.41 20L4 18.59l7.72-7.72 1.47 1.35L5.41 20z\"/>\n",
              "  </svg>\n",
              "      </button>\n",
              "      \n",
              "  <style>\n",
              "    .colab-df-container {\n",
              "      display:flex;\n",
              "      flex-wrap:wrap;\n",
              "      gap: 12px;\n",
              "    }\n",
              "\n",
              "    .colab-df-convert {\n",
              "      background-color: #E8F0FE;\n",
              "      border: none;\n",
              "      border-radius: 50%;\n",
              "      cursor: pointer;\n",
              "      display: none;\n",
              "      fill: #1967D2;\n",
              "      height: 32px;\n",
              "      padding: 0 0 0 0;\n",
              "      width: 32px;\n",
              "    }\n",
              "\n",
              "    .colab-df-convert:hover {\n",
              "      background-color: #E2EBFA;\n",
              "      box-shadow: 0px 1px 2px rgba(60, 64, 67, 0.3), 0px 1px 3px 1px rgba(60, 64, 67, 0.15);\n",
              "      fill: #174EA6;\n",
              "    }\n",
              "\n",
              "    [theme=dark] .colab-df-convert {\n",
              "      background-color: #3B4455;\n",
              "      fill: #D2E3FC;\n",
              "    }\n",
              "\n",
              "    [theme=dark] .colab-df-convert:hover {\n",
              "      background-color: #434B5C;\n",
              "      box-shadow: 0px 1px 3px 1px rgba(0, 0, 0, 0.15);\n",
              "      filter: drop-shadow(0px 1px 2px rgba(0, 0, 0, 0.3));\n",
              "      fill: #FFFFFF;\n",
              "    }\n",
              "  </style>\n",
              "\n",
              "      <script>\n",
              "        const buttonEl =\n",
              "          document.querySelector('#df-8592d9fe-750f-4bd2-88eb-779d57c7e400 button.colab-df-convert');\n",
              "        buttonEl.style.display =\n",
              "          google.colab.kernel.accessAllowed ? 'block' : 'none';\n",
              "\n",
              "        async function convertToInteractive(key) {\n",
              "          const element = document.querySelector('#df-8592d9fe-750f-4bd2-88eb-779d57c7e400');\n",
              "          const dataTable =\n",
              "            await google.colab.kernel.invokeFunction('convertToInteractive',\n",
              "                                                     [key], {});\n",
              "          if (!dataTable) return;\n",
              "\n",
              "          const docLinkHtml = 'Like what you see? Visit the ' +\n",
              "            '<a target=\"_blank\" href=https://colab.research.google.com/notebooks/data_table.ipynb>data table notebook</a>'\n",
              "            + ' to learn more about interactive tables.';\n",
              "          element.innerHTML = '';\n",
              "          dataTable['output_type'] = 'display_data';\n",
              "          await google.colab.output.renderOutput(dataTable, element);\n",
              "          const docLink = document.createElement('div');\n",
              "          docLink.innerHTML = docLinkHtml;\n",
              "          element.appendChild(docLink);\n",
              "        }\n",
              "      </script>\n",
              "    </div>\n",
              "  </div>\n",
              "  "
            ]
          },
          "metadata": {},
          "execution_count": 5
        }
      ]
    },
    {
      "cell_type": "code",
      "metadata": {
        "id": "Z9gpSZOVfyPX",
        "outputId": "eb98038a-fb9e-44d6-9140-20435ce96974",
        "colab": {
          "base_uri": "https://localhost:8080/",
          "height": 206
        }
      },
      "source": [
        "data.head()"
      ],
      "execution_count": 4,
      "outputs": [
        {
          "output_type": "execute_result",
          "data": {
            "text/plain": [
              "    User ID  Gender  Age  EstimatedSalary  Purchased\n",
              "0  15624510    Male   19            19000          0\n",
              "1  15810944    Male   35            20000          0\n",
              "2  15668575  Female   26            43000          0\n",
              "3  15603246  Female   27            57000          0\n",
              "4  15804002    Male   19            76000          0"
            ],
            "text/html": [
              "\n",
              "  <div id=\"df-dfc6a83d-481f-42fa-9c8f-2c3ae92bd772\">\n",
              "    <div class=\"colab-df-container\">\n",
              "      <div>\n",
              "<style scoped>\n",
              "    .dataframe tbody tr th:only-of-type {\n",
              "        vertical-align: middle;\n",
              "    }\n",
              "\n",
              "    .dataframe tbody tr th {\n",
              "        vertical-align: top;\n",
              "    }\n",
              "\n",
              "    .dataframe thead th {\n",
              "        text-align: right;\n",
              "    }\n",
              "</style>\n",
              "<table border=\"1\" class=\"dataframe\">\n",
              "  <thead>\n",
              "    <tr style=\"text-align: right;\">\n",
              "      <th></th>\n",
              "      <th>User ID</th>\n",
              "      <th>Gender</th>\n",
              "      <th>Age</th>\n",
              "      <th>EstimatedSalary</th>\n",
              "      <th>Purchased</th>\n",
              "    </tr>\n",
              "  </thead>\n",
              "  <tbody>\n",
              "    <tr>\n",
              "      <th>0</th>\n",
              "      <td>15624510</td>\n",
              "      <td>Male</td>\n",
              "      <td>19</td>\n",
              "      <td>19000</td>\n",
              "      <td>0</td>\n",
              "    </tr>\n",
              "    <tr>\n",
              "      <th>1</th>\n",
              "      <td>15810944</td>\n",
              "      <td>Male</td>\n",
              "      <td>35</td>\n",
              "      <td>20000</td>\n",
              "      <td>0</td>\n",
              "    </tr>\n",
              "    <tr>\n",
              "      <th>2</th>\n",
              "      <td>15668575</td>\n",
              "      <td>Female</td>\n",
              "      <td>26</td>\n",
              "      <td>43000</td>\n",
              "      <td>0</td>\n",
              "    </tr>\n",
              "    <tr>\n",
              "      <th>3</th>\n",
              "      <td>15603246</td>\n",
              "      <td>Female</td>\n",
              "      <td>27</td>\n",
              "      <td>57000</td>\n",
              "      <td>0</td>\n",
              "    </tr>\n",
              "    <tr>\n",
              "      <th>4</th>\n",
              "      <td>15804002</td>\n",
              "      <td>Male</td>\n",
              "      <td>19</td>\n",
              "      <td>76000</td>\n",
              "      <td>0</td>\n",
              "    </tr>\n",
              "  </tbody>\n",
              "</table>\n",
              "</div>\n",
              "      <button class=\"colab-df-convert\" onclick=\"convertToInteractive('df-dfc6a83d-481f-42fa-9c8f-2c3ae92bd772')\"\n",
              "              title=\"Convert this dataframe to an interactive table.\"\n",
              "              style=\"display:none;\">\n",
              "        \n",
              "  <svg xmlns=\"http://www.w3.org/2000/svg\" height=\"24px\"viewBox=\"0 0 24 24\"\n",
              "       width=\"24px\">\n",
              "    <path d=\"M0 0h24v24H0V0z\" fill=\"none\"/>\n",
              "    <path d=\"M18.56 5.44l.94 2.06.94-2.06 2.06-.94-2.06-.94-.94-2.06-.94 2.06-2.06.94zm-11 1L8.5 8.5l.94-2.06 2.06-.94-2.06-.94L8.5 2.5l-.94 2.06-2.06.94zm10 10l.94 2.06.94-2.06 2.06-.94-2.06-.94-.94-2.06-.94 2.06-2.06.94z\"/><path d=\"M17.41 7.96l-1.37-1.37c-.4-.4-.92-.59-1.43-.59-.52 0-1.04.2-1.43.59L10.3 9.45l-7.72 7.72c-.78.78-.78 2.05 0 2.83L4 21.41c.39.39.9.59 1.41.59.51 0 1.02-.2 1.41-.59l7.78-7.78 2.81-2.81c.8-.78.8-2.07 0-2.86zM5.41 20L4 18.59l7.72-7.72 1.47 1.35L5.41 20z\"/>\n",
              "  </svg>\n",
              "      </button>\n",
              "      \n",
              "  <style>\n",
              "    .colab-df-container {\n",
              "      display:flex;\n",
              "      flex-wrap:wrap;\n",
              "      gap: 12px;\n",
              "    }\n",
              "\n",
              "    .colab-df-convert {\n",
              "      background-color: #E8F0FE;\n",
              "      border: none;\n",
              "      border-radius: 50%;\n",
              "      cursor: pointer;\n",
              "      display: none;\n",
              "      fill: #1967D2;\n",
              "      height: 32px;\n",
              "      padding: 0 0 0 0;\n",
              "      width: 32px;\n",
              "    }\n",
              "\n",
              "    .colab-df-convert:hover {\n",
              "      background-color: #E2EBFA;\n",
              "      box-shadow: 0px 1px 2px rgba(60, 64, 67, 0.3), 0px 1px 3px 1px rgba(60, 64, 67, 0.15);\n",
              "      fill: #174EA6;\n",
              "    }\n",
              "\n",
              "    [theme=dark] .colab-df-convert {\n",
              "      background-color: #3B4455;\n",
              "      fill: #D2E3FC;\n",
              "    }\n",
              "\n",
              "    [theme=dark] .colab-df-convert:hover {\n",
              "      background-color: #434B5C;\n",
              "      box-shadow: 0px 1px 3px 1px rgba(0, 0, 0, 0.15);\n",
              "      filter: drop-shadow(0px 1px 2px rgba(0, 0, 0, 0.3));\n",
              "      fill: #FFFFFF;\n",
              "    }\n",
              "  </style>\n",
              "\n",
              "      <script>\n",
              "        const buttonEl =\n",
              "          document.querySelector('#df-dfc6a83d-481f-42fa-9c8f-2c3ae92bd772 button.colab-df-convert');\n",
              "        buttonEl.style.display =\n",
              "          google.colab.kernel.accessAllowed ? 'block' : 'none';\n",
              "\n",
              "        async function convertToInteractive(key) {\n",
              "          const element = document.querySelector('#df-dfc6a83d-481f-42fa-9c8f-2c3ae92bd772');\n",
              "          const dataTable =\n",
              "            await google.colab.kernel.invokeFunction('convertToInteractive',\n",
              "                                                     [key], {});\n",
              "          if (!dataTable) return;\n",
              "\n",
              "          const docLinkHtml = 'Like what you see? Visit the ' +\n",
              "            '<a target=\"_blank\" href=https://colab.research.google.com/notebooks/data_table.ipynb>data table notebook</a>'\n",
              "            + ' to learn more about interactive tables.';\n",
              "          element.innerHTML = '';\n",
              "          dataTable['output_type'] = 'display_data';\n",
              "          await google.colab.output.renderOutput(dataTable, element);\n",
              "          const docLink = document.createElement('div');\n",
              "          docLink.innerHTML = docLinkHtml;\n",
              "          element.appendChild(docLink);\n",
              "        }\n",
              "      </script>\n",
              "    </div>\n",
              "  </div>\n",
              "  "
            ]
          },
          "metadata": {},
          "execution_count": 4
        }
      ]
    },
    {
      "cell_type": "markdown",
      "metadata": {
        "id": "_lrDXgjIgGJ3"
      },
      "source": [
        "iii) **Splitting the dataset into the Training set and Test set**"
      ]
    },
    {
      "cell_type": "code",
      "metadata": {
        "id": "z2QWVTZUfyUB"
      },
      "source": [
        "X=data.iloc[:,2:4]\n",
        "y=data.iloc[:,-1].values"
      ],
      "execution_count": 8,
      "outputs": []
    },
    {
      "cell_type": "code",
      "source": [
        "X.shape"
      ],
      "metadata": {
        "id": "fN0bXx_GIjRN",
        "outputId": "79ac5a2f-9e58-419f-f349-6ecf97af72a5",
        "colab": {
          "base_uri": "https://localhost:8080/"
        }
      },
      "execution_count": 9,
      "outputs": [
        {
          "output_type": "execute_result",
          "data": {
            "text/plain": [
              "(400, 2)"
            ]
          },
          "metadata": {},
          "execution_count": 9
        }
      ]
    },
    {
      "cell_type": "code",
      "source": [
        "y.shape"
      ],
      "metadata": {
        "id": "U1fU-MdGIkeM",
        "outputId": "495d00ce-016e-4922-d116-8f6ef07e509c",
        "colab": {
          "base_uri": "https://localhost:8080/"
        }
      },
      "execution_count": 10,
      "outputs": [
        {
          "output_type": "execute_result",
          "data": {
            "text/plain": [
              "(400,)"
            ]
          },
          "metadata": {},
          "execution_count": 10
        }
      ]
    },
    {
      "cell_type": "code",
      "source": [
        "from sklearn.model_selection import train_test_split\n",
        "X_train,X_test,y_train,y_test=train_test_split(X,y,test_size=0.2)"
      ],
      "metadata": {
        "id": "d6fmF5ZlIndd"
      },
      "execution_count": 11,
      "outputs": []
    },
    {
      "cell_type": "code",
      "source": [
        "X_train.shape"
      ],
      "metadata": {
        "id": "NqnbRsLxIrl0",
        "outputId": "58ec8635-e3de-4530-a4ff-e8e10a121255",
        "colab": {
          "base_uri": "https://localhost:8080/"
        }
      },
      "execution_count": 12,
      "outputs": [
        {
          "output_type": "execute_result",
          "data": {
            "text/plain": [
              "(320, 2)"
            ]
          },
          "metadata": {},
          "execution_count": 12
        }
      ]
    },
    {
      "cell_type": "code",
      "source": [
        "X_test.shape"
      ],
      "metadata": {
        "id": "v6R5c1qkItDN",
        "outputId": "1dc5069b-00c8-4626-8772-78ecd641df11",
        "colab": {
          "base_uri": "https://localhost:8080/"
        }
      },
      "execution_count": 13,
      "outputs": [
        {
          "output_type": "execute_result",
          "data": {
            "text/plain": [
              "(80, 2)"
            ]
          },
          "metadata": {},
          "execution_count": 13
        }
      ]
    },
    {
      "cell_type": "markdown",
      "metadata": {
        "id": "XmzkAVfggNrD"
      },
      "source": [
        "iv) **Feature Scaling**"
      ]
    },
    {
      "cell_type": "code",
      "metadata": {
        "id": "UZUJ4Xn4fyW6"
      },
      "source": [
        "from sklearn.preprocessing import StandardScaler\n",
        "scaler = StandardScaler()"
      ],
      "execution_count": 15,
      "outputs": []
    },
    {
      "cell_type": "markdown",
      "metadata": {
        "id": "BWpz-G_KgaB5"
      },
      "source": [
        "v) **Fitting K-NN to the Training set**"
      ]
    },
    {
      "cell_type": "code",
      "metadata": {
        "id": "5Wo68lCqfyc6",
        "outputId": "04aff633-a916-4100-9279-c4408d06dc4c",
        "colab": {
          "base_uri": "https://localhost:8080/"
        }
      },
      "source": [
        "X_train = scaler.fit_transform(X_train)\n",
        "X_train"
      ],
      "execution_count": 16,
      "outputs": [
        {
          "output_type": "execute_result",
          "data": {
            "text/plain": [
              "array([[ 8.90658053e-01,  2.25279713e+00],\n",
              "       [ 3.19875856e-01,  1.16284169e-01],\n",
              "       [-1.01194927e+00,  6.50412408e-01],\n",
              "       [-2.50906341e-01, -2.99148906e-01],\n",
              "       [ 7.95527686e-01, -2.69475115e-01],\n",
              "       [-3.46036707e-01, -7.44255772e-01],\n",
              "       [ 1.93709208e+00,  7.98781363e-01],\n",
              "       [ 4.15006222e-01, -4.47517861e-01],\n",
              "       [ 8.90658053e-01,  1.15486686e+00],\n",
              "       [-1.29734037e+00, -1.21903643e+00],\n",
              "       [ 1.46144025e+00,  1.06584548e+00],\n",
              "       [ 7.95527686e-01, -1.18936264e+00],\n",
              "       [-2.50906341e-01, -2.39801324e-01],\n",
              "       [-6.31427805e-01, -2.41099552e-03],\n",
              "       [-1.10707964e+00, -1.51577434e+00],\n",
              "       [-2.50906341e-01, -1.33773159e+00],\n",
              "       [ 3.44847577e-02, -3.88170279e-01],\n",
              "       [-1.10707964e+00, -1.57512192e+00],\n",
              "       [-5.36297439e-01,  2.43083987e+00],\n",
              "       [ 1.36630988e+00, -8.92624727e-01],\n",
              "       [-2.50906341e-01,  8.58128945e-01],\n",
              "       [ 1.29615124e-01, -7.73929563e-01],\n",
              "       [-2.50906341e-01, -2.10127533e-01],\n",
              "       [-4.41167073e-01, -1.10034126e+00],\n",
              "       [-1.29734037e+00, -3.88170279e-01],\n",
              "       [ 8.90658053e-01,  1.33290960e+00],\n",
              "       [ 1.29615124e-01,  1.95605921e+00],\n",
              "       [-6.06456084e-02, -1.80453742e-01],\n",
              "       [ 1.29615124e-01, -2.69475115e-01],\n",
              "       [ 1.08091878e+00,  1.75631751e-01],\n",
              "       [-9.16818903e-01,  4.72369661e-01],\n",
              "       [-2.50906341e-01,  1.16284169e-01],\n",
              "       [-1.39247073e+00, -6.17585776e-02],\n",
              "       [-1.48760110e+00, -1.50779951e-01],\n",
              "       [-1.39247073e+00, -1.18936264e+00],\n",
              "       [ 2.03222245e+00,  4.42695870e-01],\n",
              "       [-4.41167073e-01, -7.44255772e-01],\n",
              "       [-6.06456084e-02,  7.39433781e-01],\n",
              "       [ 1.29615124e-01,  1.45957960e-01],\n",
              "       [-2.50906341e-01,  2.34181850e+00],\n",
              "       [-9.16818903e-01,  5.61391035e-01],\n",
              "       [ 3.19875856e-01,  3.53674497e-01],\n",
              "       [-2.50906341e-01, -7.14581981e-01],\n",
              "       [-1.20221000e+00,  6.50412408e-01],\n",
              "       [ 1.29615124e-01,  2.64653124e-01],\n",
              "       [ 7.95527686e-01,  3.24000706e-01],\n",
              "       [ 1.29615124e-01,  3.24000706e-01],\n",
              "       [-1.48760110e+00, -1.48610055e+00],\n",
              "       [-2.50906341e-01, -1.42675297e+00],\n",
              "       [ 1.29615124e-01,  2.05305542e-01],\n",
              "       [ 3.44847577e-02,  3.53674497e-01],\n",
              "       [ 8.90658053e-01, -1.42675297e+00],\n",
              "       [ 1.46144025e+00,  1.16284169e-01],\n",
              "       [-9.16818903e-01, -1.07066747e+00],\n",
              "       [-1.55775974e-01,  1.48127856e+00],\n",
              "       [-1.48760110e+00, -1.21903643e+00],\n",
              "       [ 9.85788419e-01,  2.07475438e+00],\n",
              "       [ 1.74683135e+00,  1.92638542e+00],\n",
              "       [ 9.85788419e-01,  8.28455154e-01],\n",
              "       [-1.01194927e+00,  6.20738617e-01],\n",
              "       [ 7.95527686e-01, -1.07066747e+00],\n",
              "       [-1.67786183e+00,  5.31717244e-01],\n",
              "       [-1.20221000e+00,  3.24000706e-01],\n",
              "       [ 7.95527686e-01, -1.33773159e+00],\n",
              "       [-2.50906341e-01,  2.05305542e-01],\n",
              "       [-8.21688537e-01,  4.42695870e-01],\n",
              "       [-6.06456084e-02,  1.16284169e-01],\n",
              "       [ 1.93709208e+00,  2.25279713e+00],\n",
              "       [ 1.29615124e-01,  8.66103777e-02],\n",
              "       [ 2.12735281e+00,  1.18454065e+00],\n",
              "       [-1.55775974e-01,  2.05305542e-01],\n",
              "       [ 4.15006222e-01, -9.14323687e-02],\n",
              "       [ 1.08091878e+00, -8.62950936e-01],\n",
              "       [-1.67786183e+00,  4.13022079e-01],\n",
              "       [-2.50906341e-01, -9.14323687e-02],\n",
              "       [ 1.17604915e+00, -1.42675297e+00],\n",
              "       [-7.26558171e-01,  1.15486686e+00],\n",
              "       [ 3.19875856e-01,  3.24000706e-01],\n",
              "       [-1.01194927e+00,  2.04508059e+00],\n",
              "       [-1.86812256e+00,  5.31717244e-01],\n",
              "       [-2.50906341e-01, -1.27838401e+00],\n",
              "       [-6.06456084e-02,  2.94326915e-01],\n",
              "       [-6.06456084e-02, -4.47517861e-01],\n",
              "       [ 1.27117952e+00,  2.31214471e+00],\n",
              "       [ 8.90658053e-01, -5.06865444e-01],\n",
              "       [ 6.05266954e-01,  2.10442817e+00],\n",
              "       [-1.48760110e+00,  3.83348288e-01],\n",
              "       [ 1.29615124e-01,  1.95605921e+00],\n",
              "       [-1.01194927e+00, -2.99148906e-01],\n",
              "       [-6.31427805e-01, -1.01131989e+00],\n",
              "       [-1.39247073e+00, -1.50779951e-01],\n",
              "       [-1.67786183e+00,  4.13022079e-01],\n",
              "       [ 2.03222245e+00, -1.15968885e+00],\n",
              "       [ 3.44847577e-02,  8.66103777e-02],\n",
              "       [ 2.24745490e-01, -2.10127533e-01],\n",
              "       [-1.86812256e+00, -2.41099552e-03],\n",
              "       [ 7.00397320e-01, -1.07066747e+00],\n",
              "       [ 1.29615124e-01,  1.12519306e+00],\n",
              "       [ 3.44847577e-02,  1.33290960e+00],\n",
              "       [-1.20221000e+00,  5.61391035e-01],\n",
              "       [ 4.15006222e-01,  3.24000706e-01],\n",
              "       [ 1.55657062e+00,  5.69365866e-02],\n",
              "       [-4.41167073e-01, -5.06865444e-01],\n",
              "       [-1.86812256e+00, -4.77191653e-01],\n",
              "       [ 4.15006222e-01,  2.40116608e+00],\n",
              "       [-9.16818903e-01, -2.69475115e-01],\n",
              "       [-1.01194927e+00,  5.91064826e-01],\n",
              "       [-1.10707964e+00,  3.53674497e-01],\n",
              "       [ 3.44847577e-02, -2.69475115e-01],\n",
              "       [ 3.19875856e-01,  1.16284169e-01],\n",
              "       [-1.48760110e+00, -3.88170279e-01],\n",
              "       [-9.16818903e-01, -7.14581981e-01],\n",
              "       [ 9.85788419e-01,  1.86703784e+00],\n",
              "       [ 1.36630988e+00,  6.50412408e-01],\n",
              "       [ 3.19875856e-01, -1.13001506e+00],\n",
              "       [-2.50906341e-01,  3.24000706e-01],\n",
              "       [-6.31427805e-01, -1.48610055e+00],\n",
              "       [-1.67786183e+00, -5.66213026e-01],\n",
              "       [ 5.10136588e-01,  1.92638542e+00],\n",
              "       [ 1.84196171e+00,  1.59997372e+00],\n",
              "       [-1.67786183e+00, -9.51972309e-01],\n",
              "       [ 9.85788419e-01,  1.51095235e+00],\n",
              "       [-6.06456084e-02,  3.24000706e-01],\n",
              "       [-2.50906341e-01,  1.45957960e-01],\n",
              "       [-1.29734037e+00, -1.33773159e+00],\n",
              "       [ 3.44847577e-02, -9.14323687e-02],\n",
              "       [-1.58273147e+00,  5.91064826e-01],\n",
              "       [ 2.24745490e-01, -3.28822697e-01],\n",
              "       [-2.50906341e-01,  5.91064826e-01],\n",
              "       [ 7.00397320e-01,  1.86703784e+00],\n",
              "       [-9.16818903e-01,  3.24000706e-01],\n",
              "       [ 7.00397320e-01, -1.36740538e+00],\n",
              "       [-9.16818903e-01, -3.88170279e-01],\n",
              "       [-3.46036707e-01,  1.30323581e+00],\n",
              "       [-3.46036707e-01,  1.39225718e+00],\n",
              "       [ 2.24745490e-01, -2.69475115e-01],\n",
              "       [ 1.29615124e-01,  8.66103777e-02],\n",
              "       [ 1.84196171e+00, -2.39801324e-01],\n",
              "       [ 7.95527686e-01,  5.91064826e-01],\n",
              "       [-6.06456084e-02,  1.75631751e-01],\n",
              "       [ 2.24745490e-01,  2.05305542e-01],\n",
              "       [-1.55775974e-01, -5.36539235e-01],\n",
              "       [ 4.15006222e-01, -4.17844070e-01],\n",
              "       [ 1.55657062e+00,  1.18454065e+00],\n",
              "       [ 8.90658053e-01, -6.25560608e-01],\n",
              "       [-1.10707964e+00, -1.07066747e+00],\n",
              "       [-7.26558171e-01,  3.24000706e-01],\n",
              "       [-2.50906341e-01,  6.80086199e-01],\n",
              "       [ 4.15006222e-01,  1.06584548e+00],\n",
              "       [-1.58273147e+00, -1.54544813e+00],\n",
              "       [-1.29734037e+00, -2.99148906e-01],\n",
              "       [-3.46036707e-01, -7.44255772e-01],\n",
              "       [ 3.19875856e-01, -2.69475115e-01],\n",
              "       [ 9.85788419e-01, -1.15968885e+00],\n",
              "       [-6.06456084e-02, -4.77191653e-01],\n",
              "       [ 4.15006222e-01,  6.50412408e-01],\n",
              "       [ 4.15006222e-01, -1.21106160e-01],\n",
              "       [ 1.08091878e+00, -1.18936264e+00],\n",
              "       [-1.39247073e+00,  4.13022079e-01],\n",
              "       [-7.26558171e-01, -1.80453742e-01],\n",
              "       [ 1.93709208e+00, -1.33773159e+00],\n",
              "       [ 2.03222245e+00,  1.83736405e+00],\n",
              "       [-9.16818903e-01,  6.20738617e-01],\n",
              "       [-5.36297439e-01,  1.45160477e+00],\n",
              "       [ 8.90658053e-01, -5.36539235e-01],\n",
              "       [-1.77299220e+00, -1.24871022e+00],\n",
              "       [-5.36297439e-01,  9.47150318e-01],\n",
              "       [ 1.74683135e+00, -2.39801324e-01],\n",
              "       [-2.50906341e-01, -3.88170279e-01],\n",
              "       [-2.50906341e-01,  1.18454065e+00],\n",
              "       [ 2.24745490e-01, -6.25560608e-01],\n",
              "       [ 1.74683135e+00,  1.06584548e+00],\n",
              "       [-5.36297439e-01,  5.31717244e-01],\n",
              "       [-5.36297439e-01, -1.48610055e+00],\n",
              "       [-9.16818903e-01, -9.22298518e-01],\n",
              "       [ 2.12735281e+00,  4.42695870e-01],\n",
              "       [ 8.90658053e-01, -5.66213026e-01],\n",
              "       [ 4.15006222e-01,  1.45957960e-01],\n",
              "       [ 7.95527686e-01, -8.03603354e-01],\n",
              "       [-1.10707964e+00, -7.44255772e-01],\n",
              "       [ 5.10136588e-01,  1.80769026e+00],\n",
              "       [-1.39247073e+00, -5.95886817e-01],\n",
              "       [-1.10707964e+00,  1.48127856e+00],\n",
              "       [-6.06456084e-02,  2.25279713e+00],\n",
              "       [ 9.85788419e-01,  1.75631751e-01],\n",
              "       [-6.06456084e-02, -3.88170279e-01],\n",
              "       [-2.50906341e-01,  2.05305542e-01],\n",
              "       [-6.31427805e-01,  2.34979333e-01],\n",
              "       [-5.36297439e-01, -1.48610055e+00],\n",
              "       [-6.06456084e-02,  2.31214471e+00],\n",
              "       [ 3.19875856e-01, -4.77191653e-01],\n",
              "       [-1.77299220e+00, -1.27838401e+00],\n",
              "       [ 4.15006222e-01,  3.53674497e-01],\n",
              "       [ 7.00397320e-01, -1.36740538e+00],\n",
              "       [-3.46036707e-01, -1.27838401e+00],\n",
              "       [ 8.90658053e-01, -1.13001506e+00],\n",
              "       [-1.77299220e+00,  5.69365866e-02],\n",
              "       [-1.10707964e+00, -4.77191653e-01],\n",
              "       [-7.26558171e-01,  3.53674497e-01],\n",
              "       [-1.10707964e+00, -1.57512192e+00],\n",
              "       [-1.77299220e+00,  2.34979333e-01],\n",
              "       [-1.29734037e+00, -1.07066747e+00],\n",
              "       [-6.31427805e-01, -1.57512192e+00],\n",
              "       [ 9.85788419e-01, -1.04099368e+00],\n",
              "       [ 3.44847577e-02, -2.10127533e-01],\n",
              "       [ 1.93709208e+00, -6.25560608e-01],\n",
              "       [-1.10707964e+00,  5.31717244e-01],\n",
              "       [-2.50906341e-01,  8.66103777e-02],\n",
              "       [-1.55775974e-01, -2.39801324e-01],\n",
              "       [-5.36297439e-01,  1.45160477e+00],\n",
              "       [ 1.84196171e+00, -1.04099368e+00],\n",
              "       [ 8.90658053e-01, -1.27838401e+00],\n",
              "       [-2.50906341e-01, -8.62950936e-01],\n",
              "       [-4.41167073e-01,  2.72627955e-02],\n",
              "       [-2.50906341e-01, -8.92624727e-01],\n",
              "       [ 7.95527686e-01, -1.36740538e+00],\n",
              "       [ 4.15006222e-01,  5.69365866e-02],\n",
              "       [-1.01194927e+00, -4.17844070e-01],\n",
              "       [-8.21688537e-01, -1.18936264e+00],\n",
              "       [-7.26558171e-01, -1.51577434e+00],\n",
              "       [ 1.36630988e+00,  1.36258339e+00],\n",
              "       [-1.01194927e+00, -1.10034126e+00],\n",
              "       [ 4.15006222e-01, -4.17844070e-01],\n",
              "       [-2.50906341e-01,  2.64653124e-01],\n",
              "       [-1.20221000e+00, -1.04099368e+00],\n",
              "       [-1.67786183e+00, -1.33773159e+00],\n",
              "       [ 2.12735281e+00, -1.01131989e+00],\n",
              "       [ 3.44847577e-02,  8.66103777e-02],\n",
              "       [ 9.85788419e-01,  6.50412408e-01],\n",
              "       [-2.50906341e-01, -1.21903643e+00],\n",
              "       [ 2.24745490e-01, -9.14323687e-02],\n",
              "       [-1.77299220e+00, -1.39707918e+00],\n",
              "       [ 2.24745490e-01, -3.28822697e-01],\n",
              "       [-1.55775974e-01,  9.17476527e-01],\n",
              "       [ 1.36630988e+00, -1.39707918e+00],\n",
              "       [ 3.19875856e-01,  8.66103777e-02],\n",
              "       [-1.10707964e+00, -1.13001506e+00],\n",
              "       [-1.01194927e+00, -1.42675297e+00],\n",
              "       [ 2.24745490e-01,  2.94326915e-01],\n",
              "       [-8.21688537e-01, -6.25560608e-01],\n",
              "       [-6.31427805e-01, -6.17585776e-02],\n",
              "       [ 1.29615124e-01, -7.73929563e-01],\n",
              "       [-6.31427805e-01, -2.99148906e-01],\n",
              "       [-9.16818903e-01,  1.62964751e+00],\n",
              "       [-7.26558171e-01, -1.57512192e+00],\n",
              "       [ 1.08091878e+00,  5.91064826e-01],\n",
              "       [-4.41167073e-01,  1.33290960e+00],\n",
              "       [ 2.12735281e+00, -7.73929563e-01],\n",
              "       [ 3.19875856e-01, -6.84908190e-01],\n",
              "       [-1.55775974e-01,  1.68899509e+00],\n",
              "       [ 1.08091878e+00, -9.51972309e-01],\n",
              "       [-1.10707964e+00, -9.81646101e-01],\n",
              "       [ 1.29615124e-01, -2.10127533e-01],\n",
              "       [ 3.44847577e-02,  1.30323581e+00],\n",
              "       [-7.26558171e-01, -5.66213026e-01],\n",
              "       [ 3.19875856e-01,  1.16284169e-01],\n",
              "       [ 1.08091878e+00,  5.31717244e-01],\n",
              "       [-2.50906341e-01, -5.36539235e-01],\n",
              "       [ 2.12735281e+00, -7.73929563e-01],\n",
              "       [-1.29734037e+00, -3.88170279e-01],\n",
              "       [ 1.65170098e+00,  1.83736405e+00],\n",
              "       [-6.06456084e-02,  8.66103777e-02],\n",
              "       [ 4.15006222e-01, -9.14323687e-02],\n",
              "       [-1.10707964e+00,  1.16284169e-01],\n",
              "       [-2.50906341e-01, -3.28822697e-01],\n",
              "       [ 7.00397320e-01, -6.84908190e-01],\n",
              "       [ 2.03222245e+00, -7.73929563e-01],\n",
              "       [-6.06456084e-02,  2.04508059e+00],\n",
              "       [-6.06456084e-02,  2.05305542e-01],\n",
              "       [ 4.15006222e-01,  3.53674497e-01],\n",
              "       [ 3.19875856e-01,  5.61391035e-01],\n",
              "       [ 7.95527686e-01,  1.45160477e+00],\n",
              "       [-6.06456084e-02,  3.53674497e-01],\n",
              "       [ 9.85788419e-01, -8.03603354e-01],\n",
              "       [ 1.93709208e+00, -8.92624727e-01],\n",
              "       [-1.29734037e+00,  4.72369661e-01],\n",
              "       [ 1.84196171e+00, -1.24871022e+00],\n",
              "       [-1.55775974e-01, -4.17844070e-01],\n",
              "       [ 1.93709208e+00,  9.76824109e-01],\n",
              "       [-8.21688537e-01, -7.44255772e-01],\n",
              "       [ 9.85788419e-01, -1.13001506e+00],\n",
              "       [-1.01194927e+00, -1.51577434e+00],\n",
              "       [-6.06456084e-02,  3.53674497e-01],\n",
              "       [ 6.05266954e-01, -8.62950936e-01],\n",
              "       [-2.50906341e-01, -1.36740538e+00],\n",
              "       [-2.50906341e-01, -5.36539235e-01],\n",
              "       [ 1.65170098e+00,  1.68899509e+00],\n",
              "       [ 1.08091878e+00,  6.20738617e-01],\n",
              "       [ 2.24745490e-01,  2.19344954e+00],\n",
              "       [-1.20221000e+00, -1.36740538e+00],\n",
              "       [ 2.24745490e-01,  1.15486686e+00],\n",
              "       [ 2.03222245e+00,  2.34979333e-01],\n",
              "       [ 1.27117952e+00, -1.33773159e+00],\n",
              "       [-6.06456084e-02, -1.04099368e+00],\n",
              "       [-1.58273147e+00, -2.41099552e-03],\n",
              "       [ 9.85788419e-01,  1.95605921e+00],\n",
              "       [-8.21688537e-01, -2.10127533e-01],\n",
              "       [-1.10707964e+00,  4.72369661e-01],\n",
              "       [ 2.24745490e-01,  1.16284169e-01],\n",
              "       [ 1.29615124e-01,  8.28455154e-01],\n",
              "       [-4.41167073e-01,  2.40116608e+00],\n",
              "       [-6.31427805e-01,  8.66103777e-02],\n",
              "       [ 8.90658053e-01, -1.33773159e+00],\n",
              "       [ 1.08091878e+00, -9.14323687e-02],\n",
              "       [ 1.84196171e+00,  1.75631751e-01],\n",
              "       [ 7.95527686e-01,  1.75631751e-01],\n",
              "       [-4.41167073e-01, -8.03603354e-01],\n",
              "       [-5.36297439e-01,  1.98573301e+00],\n",
              "       [-6.06456084e-02, -3.28822697e-01],\n",
              "       [ 2.03222245e+00,  5.91064826e-01],\n",
              "       [-8.21688537e-01,  2.05305542e-01],\n",
              "       [ 3.19875856e-01, -1.50779951e-01],\n",
              "       [-1.77299220e+00, -1.45642676e+00],\n",
              "       [ 1.27117952e+00,  1.95605921e+00],\n",
              "       [ 1.46144025e+00,  4.13022079e-01],\n",
              "       [-4.41167073e-01, -1.18936264e+00],\n",
              "       [ 1.55657062e+00, -1.24871022e+00],\n",
              "       [ 3.19875856e-01,  1.16284169e-01],\n",
              "       [-1.77299220e+00,  5.02043453e-01],\n",
              "       [-4.41167073e-01, -2.39801324e-01]])"
            ]
          },
          "metadata": {},
          "execution_count": 16
        }
      ]
    },
    {
      "cell_type": "code",
      "source": [
        "np.sqrt(X_train.shape[0])"
      ],
      "metadata": {
        "id": "AcvgwJKHI7m7",
        "outputId": "3c20b018-43b8-425e-abe8-318bfee0c6c6",
        "colab": {
          "base_uri": "https://localhost:8080/"
        }
      },
      "execution_count": 17,
      "outputs": [
        {
          "output_type": "execute_result",
          "data": {
            "text/plain": [
              "17.88854381999832"
            ]
          },
          "metadata": {},
          "execution_count": 17
        }
      ]
    },
    {
      "cell_type": "code",
      "source": [
        "k = 17\n"
      ],
      "metadata": {
        "id": "qz3BLRRHJHNs"
      },
      "execution_count": 18,
      "outputs": []
    },
    {
      "cell_type": "code",
      "source": [
        "from sklearn.neighbors import KNeighborsClassifier\n",
        "knn = KNeighborsClassifier(n_neighbors=k)"
      ],
      "metadata": {
        "id": "59wenTrCJIFN"
      },
      "execution_count": 19,
      "outputs": []
    },
    {
      "cell_type": "code",
      "source": [
        "knn.fit(X_train,y_train)"
      ],
      "metadata": {
        "id": "fNgMmXfvJIO-",
        "outputId": "95d5259f-9614-488d-9869-72693edf04db",
        "colab": {
          "base_uri": "https://localhost:8080/"
        }
      },
      "execution_count": 20,
      "outputs": [
        {
          "output_type": "execute_result",
          "data": {
            "text/plain": [
              "KNeighborsClassifier(n_neighbors=17)"
            ]
          },
          "metadata": {},
          "execution_count": 20
        }
      ]
    },
    {
      "cell_type": "code",
      "source": [
        "y_pred = knn.predict(X_test)"
      ],
      "metadata": {
        "id": "NRjb6_nTJSu0",
        "outputId": "a586d457-92d7-44b7-abac-2ac45bc0ba73",
        "colab": {
          "base_uri": "https://localhost:8080/"
        }
      },
      "execution_count": 21,
      "outputs": [
        {
          "output_type": "stream",
          "name": "stderr",
          "text": [
            "/usr/local/lib/python3.7/dist-packages/sklearn/base.py:444: UserWarning: X has feature names, but KNeighborsClassifier was fitted without feature names\n",
            "  f\"X has feature names, but {self.__class__.__name__} was fitted without\"\n"
          ]
        }
      ]
    },
    {
      "cell_type": "code",
      "source": [
        "y_pred.shape"
      ],
      "metadata": {
        "id": "sr4cqfnxJVIk",
        "outputId": "3fa52986-8bf7-47f2-85ec-cec0bab08827",
        "colab": {
          "base_uri": "https://localhost:8080/"
        }
      },
      "execution_count": 22,
      "outputs": [
        {
          "output_type": "execute_result",
          "data": {
            "text/plain": [
              "(80,)"
            ]
          },
          "metadata": {},
          "execution_count": 22
        }
      ]
    },
    {
      "cell_type": "code",
      "source": [
        "y_test.shape"
      ],
      "metadata": {
        "id": "y4qNm3KTJSx2",
        "outputId": "cc9afa84-99a3-46bd-f026-00ad07a28b1c",
        "colab": {
          "base_uri": "https://localhost:8080/"
        }
      },
      "execution_count": 23,
      "outputs": [
        {
          "output_type": "execute_result",
          "data": {
            "text/plain": [
              "(80,)"
            ]
          },
          "metadata": {},
          "execution_count": 23
        }
      ]
    },
    {
      "cell_type": "markdown",
      "metadata": {
        "id": "GoGxoF-kgmlj"
      },
      "source": [
        "vi) **Predicting the Test set results**"
      ]
    },
    {
      "cell_type": "code",
      "metadata": {
        "id": "aEOlRLkefye3",
        "outputId": "e46238ac-081d-4df1-cb64-88f682b2900a",
        "colab": {
          "base_uri": "https://localhost:8080/"
        }
      },
      "source": [
        "from sklearn.metrics import accuracy_score\n",
        "accuracy_score(y_test,y_pred)"
      ],
      "execution_count": null,
      "outputs": [
        {
          "output_type": "execute_result",
          "data": {
            "text/plain": [
              "0.375"
            ]
          },
          "metadata": {},
          "execution_count": 23
        }
      ]
    },
    {
      "cell_type": "markdown",
      "metadata": {
        "id": "cYfKp7MQgwX7"
      },
      "source": [
        "vii) **Making the Confusion Matrix**"
      ]
    },
    {
      "cell_type": "code",
      "metadata": {
        "id": "zFhgq3Yufyh5",
        "outputId": "a3a24523-7605-4e27-b12b-0d1e410eae58",
        "colab": {
          "base_uri": "https://localhost:8080/"
        }
      },
      "source": [
        "from sklearn.metrics import confusion_matrix\n",
        "confusion_matrix(y_test,y_pred)"
      ],
      "execution_count": 24,
      "outputs": [
        {
          "output_type": "execute_result",
          "data": {
            "text/plain": [
              "array([[ 0, 50],\n",
              "       [ 0, 30]])"
            ]
          },
          "metadata": {},
          "execution_count": 24
        }
      ]
    },
    {
      "cell_type": "code",
      "source": [
        "accuracy = []\n",
        "\n",
        "for i in range(1,26):\n",
        "    knn = KNeighborsClassifier(n_neighbors=i)\n",
        "    knn.fit(X_train,y_train)\n",
        "    accuracy.append(accuracyScore(y_test,knn.predict(X_test)))"
      ],
      "metadata": {
        "id": "t64dVDnbJeqE",
        "outputId": "13d4cc02-f53d-491e-e400-ae34167c1ded",
        "colab": {
          "base_uri": "https://localhost:8080/",
          "height": 200
        }
      },
      "execution_count": 25,
      "outputs": [
        {
          "output_type": "error",
          "ename": "NameError",
          "evalue": "ignored",
          "traceback": [
            "\u001b[0;31m---------------------------------------------------------------------------\u001b[0m",
            "\u001b[0;31mNameError\u001b[0m                                 Traceback (most recent call last)",
            "\u001b[0;32m<ipython-input-25-ee1c3d3caae2>\u001b[0m in \u001b[0;36m<module>\u001b[0;34m\u001b[0m\n\u001b[1;32m      4\u001b[0m     \u001b[0mknn\u001b[0m \u001b[0;34m=\u001b[0m \u001b[0mKNeighborsClassifier\u001b[0m\u001b[0;34m(\u001b[0m\u001b[0mn_neighbors\u001b[0m\u001b[0;34m=\u001b[0m\u001b[0mi\u001b[0m\u001b[0;34m)\u001b[0m\u001b[0;34m\u001b[0m\u001b[0;34m\u001b[0m\u001b[0m\n\u001b[1;32m      5\u001b[0m     \u001b[0mknn\u001b[0m\u001b[0;34m.\u001b[0m\u001b[0mfit\u001b[0m\u001b[0;34m(\u001b[0m\u001b[0mX_train\u001b[0m\u001b[0;34m,\u001b[0m\u001b[0my_train\u001b[0m\u001b[0;34m)\u001b[0m\u001b[0;34m\u001b[0m\u001b[0;34m\u001b[0m\u001b[0m\n\u001b[0;32m----> 6\u001b[0;31m     \u001b[0maccuracy\u001b[0m\u001b[0;34m.\u001b[0m\u001b[0mappend\u001b[0m\u001b[0;34m(\u001b[0m\u001b[0maccuracy_score\u001b[0m\u001b[0;34m(\u001b[0m\u001b[0my_test\u001b[0m\u001b[0;34m,\u001b[0m\u001b[0mknn\u001b[0m\u001b[0;34m.\u001b[0m\u001b[0mpredict\u001b[0m\u001b[0;34m(\u001b[0m\u001b[0mX_test\u001b[0m\u001b[0;34m)\u001b[0m\u001b[0;34m)\u001b[0m\u001b[0;34m)\u001b[0m\u001b[0;34m\u001b[0m\u001b[0;34m\u001b[0m\u001b[0m\n\u001b[0m",
            "\u001b[0;31mNameError\u001b[0m: name 'accuracy_score' is not defined"
          ]
        }
      ]
    }
  ]
}